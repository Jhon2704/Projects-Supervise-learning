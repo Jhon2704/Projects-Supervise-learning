{
 "cells": [
  {
   "cell_type": "markdown",
   "metadata": {},
   "source": [
    "## Convocatoria 1 - Proyecto 2\n",
    "\n",
    "## Alejandro Minguez Molina - Joan Olivan Marquina"
   ]
  },
  {
   "cell_type": "markdown",
   "metadata": {},
   "source": [
    "### Ejercicio 1 (4 puntos)\n",
    "Utilizar el conjunto de datos \"dataset_1.npy\" para resolver el ejercicio. Tener en cuenta que la última columna corresponde a la clase."
   ]
  },
  {
   "cell_type": "markdown",
   "metadata": {},
   "source": [
    "#### 1.a) Imputación de valores ausentes (2 puntos)\n",
    "\n",
    "- En aquellas instancias (filas) que contengan UN ÚNICO VALOR NaN en alguno de sus atributos (columnas), se imputará dicho valor.\n",
    " * Si el atributo corresponde a una variable discreta, se imputará el valor utilizando la moda de dicho atributo. \n",
    " * Si el atributo corresponde a una variable continua, se imputará el valor utilizando la media de dicho atributo. \n",
    "- Aquellas instancias (filas) que contengan MÁS DE UN VALOR NaN en sus atributos, deberán ser eliminadas por completo. \n",
    "\n",
    "Los outputs deberán ser: \n",
    "- Una matriz \"X\" de dimensiones M x N, donde M será el número de instancias y N, el de atributos.\n",
    "- Un vector \"y\" de dimensiones M. "
   ]
  },
  {
   "cell_type": "code",
   "execution_count": 2,
   "metadata": {},
   "outputs": [
    {
     "name": "stdout",
     "output_type": "stream",
     "text": [
      "(500, 8)\n",
      "(500,)\n"
     ]
    },
    {
     "data": {
      "text/plain": [
       "array([0, 0, 0, 0, 0, 0, 0, 0, 0, 0, 0, 0, 0, 8, 0, 1, 0, 0, 0, 0, 0, 0,\n",
       "       0, 0, 0, 0, 0, 0, 0, 0, 0, 0, 0, 0, 0, 0, 0, 0, 0, 0, 0, 0, 0, 0,\n",
       "       0, 0, 0, 0, 0, 0, 0, 0, 0, 0, 0, 0, 0, 0, 8, 0, 0, 0, 0, 0, 0, 0,\n",
       "       0, 0, 0, 0, 0, 0, 0, 0, 0, 0, 0, 0, 0, 0, 0, 0, 0, 0, 0, 0, 0, 0,\n",
       "       0, 0, 0, 0, 0, 0, 0, 0, 0, 0, 0, 0, 0, 0, 0, 0, 0, 0, 0, 0, 0, 0,\n",
       "       0, 0, 0, 0, 0, 0, 0, 0, 0, 0, 0, 0, 0, 0, 0, 0, 0, 0, 0, 8, 0, 0,\n",
       "       0, 0, 0, 0, 0, 0, 0, 0, 0, 0, 0, 0, 0, 0, 0, 0, 0, 0, 0, 0, 0, 0,\n",
       "       0, 0, 0, 0, 0, 0, 0, 0, 0, 0, 0, 0, 0, 0, 0, 0, 0, 0, 0, 0, 0, 0,\n",
       "       0, 0, 0, 0, 0, 0, 0, 0, 0, 0, 0, 0, 0, 0, 0, 0, 0, 0, 0, 0, 0, 0,\n",
       "       0, 0, 0, 0, 0, 0, 0, 0, 0, 0, 1, 0, 0, 0, 0, 0, 0, 0, 0, 0, 0, 0,\n",
       "       0, 0, 0, 0, 0, 0, 0, 0, 0, 0, 0, 0, 0, 0, 0, 0, 0, 0, 0, 0, 0, 0,\n",
       "       0, 0, 0, 0, 0, 0, 0, 0, 0, 0, 0, 0, 0, 0, 0, 0, 0, 0, 0, 0, 0, 0,\n",
       "       0, 0, 0, 0, 0, 0, 0, 0, 0, 0, 0, 0, 0, 0, 0, 0, 0, 0, 0, 0, 0, 0,\n",
       "       0, 0, 0, 0, 0, 0, 0, 0, 0, 0, 0, 0, 0, 0, 0, 0, 0, 0, 0, 0, 0, 0,\n",
       "       0, 0, 0, 0, 0, 0, 0, 0, 0, 0, 0, 0, 8, 0, 0, 0, 0, 0, 0, 0, 0, 0,\n",
       "       0, 0, 0, 0, 0, 0, 0, 0, 0, 0, 0, 0, 0, 0, 0, 0, 0, 0, 0, 0, 0, 0,\n",
       "       1, 0, 0, 0, 0, 0, 0, 0, 0, 0, 0, 0, 0, 0, 0, 0, 0, 0, 0, 0, 0, 0,\n",
       "       0, 0, 0, 0, 0, 0, 0, 0, 0, 0, 0, 0, 0, 0, 0, 0, 0, 0, 0, 0, 0, 0,\n",
       "       0, 0, 0, 0, 0, 0, 0, 0, 0, 0, 0, 0, 0, 0, 8, 0, 0, 0, 0, 0, 0, 0,\n",
       "       0, 0, 0, 0, 0, 0, 0, 0, 0, 0, 0, 0, 0, 0, 0, 0, 0, 0, 0, 0, 0, 0,\n",
       "       0, 0, 0, 0, 0, 0, 0, 0, 0, 0, 0, 0, 0, 0, 0, 0, 0, 0, 0, 0, 0, 0,\n",
       "       0, 0, 0, 0, 0, 0, 0, 0, 0, 0, 0, 0, 0, 0, 0, 0, 0, 0, 0, 0, 0, 0,\n",
       "       0, 0, 0, 0, 0, 0, 0, 0, 0, 0, 0, 0, 0, 0, 0, 0])"
      ]
     },
     "metadata": {},
     "output_type": "display_data"
    },
    {
     "name": "stdout",
     "output_type": "stream",
     "text": [
      "(495, 8)\n",
      "(495,)\n"
     ]
    },
    {
     "data": {
      "text/plain": [
       "array([0, 0, 0, 0, 0, 0, 0, 0, 0, 0, 0, 0, 0, 0, 0, 0, 0, 0, 0, 0, 0, 0,\n",
       "       0, 0, 0, 0, 0, 0, 0, 0, 0, 0, 0, 0, 0, 0, 0, 0, 0, 0, 0, 0, 0, 0,\n",
       "       0, 0, 0, 0, 0, 0, 0, 0, 0, 0, 0, 0, 0, 0, 0, 0, 0, 0, 0, 0, 0, 0,\n",
       "       0, 0, 0, 0, 0, 0, 0, 0, 0, 0, 0, 0, 0, 0, 0, 0, 0, 0, 0, 0, 0, 0,\n",
       "       0, 0, 0, 0, 0, 0, 0, 0, 0, 0, 0, 0, 0, 0, 0, 0, 0, 0, 0, 0, 0, 0,\n",
       "       0, 0, 0, 0, 0, 0, 0, 0, 0, 0, 0, 0, 0, 0, 0, 0, 0, 0, 0, 0, 0, 0,\n",
       "       0, 0, 0, 0, 0, 0, 0, 0, 0, 0, 0, 0, 0, 0, 0, 0, 0, 0, 0, 0, 0, 0,\n",
       "       0, 0, 0, 0, 0, 0, 0, 0, 0, 0, 0, 0, 0, 0, 0, 0, 0, 0, 0, 0, 0, 0,\n",
       "       0, 0, 0, 0, 0, 0, 0, 0, 0, 0, 0, 0, 0, 0, 0, 0, 0, 0, 0, 0, 0, 0,\n",
       "       0, 0, 0, 0, 0, 0, 0, 0, 0, 0, 0, 0, 0, 0, 0, 0, 0, 0, 0, 0, 0, 0,\n",
       "       0, 0, 0, 0, 0, 0, 0, 0, 0, 0, 0, 0, 0, 0, 0, 0, 0, 0, 0, 0, 0, 0,\n",
       "       0, 0, 0, 0, 0, 0, 0, 0, 0, 0, 0, 0, 0, 0, 0, 0, 0, 0, 0, 0, 0, 0,\n",
       "       0, 0, 0, 0, 0, 0, 0, 0, 0, 0, 0, 0, 0, 0, 0, 0, 0, 0, 0, 0, 0, 0,\n",
       "       0, 0, 0, 0, 0, 0, 0, 0, 0, 0, 0, 0, 0, 0, 0, 0, 0, 0, 0, 0, 0, 0,\n",
       "       0, 0, 0, 0, 0, 0, 0, 0, 0, 0, 0, 0, 0, 0, 0, 0, 0, 0, 0, 0, 0, 0,\n",
       "       0, 0, 0, 0, 0, 0, 0, 0, 0, 0, 0, 0, 0, 0, 0, 0, 0, 0, 0, 0, 0, 0,\n",
       "       0, 0, 0, 0, 0, 0, 0, 0, 0, 0, 0, 0, 0, 0, 0, 0, 0, 0, 0, 0, 0, 0,\n",
       "       0, 0, 0, 0, 0, 0, 0, 0, 0, 0, 0, 0, 0, 0, 0, 0, 0, 0, 0, 0, 0, 0,\n",
       "       0, 0, 0, 0, 0, 0, 0, 0, 0, 0, 0, 0, 0, 0, 0, 0, 0, 0, 0, 0, 0, 0,\n",
       "       0, 0, 0, 0, 0, 0, 0, 0, 0, 0, 0, 0, 0, 0, 0, 0, 0, 0, 0, 0, 0, 0,\n",
       "       0, 0, 0, 0, 0, 0, 0, 0, 0, 0, 0, 0, 0, 0, 0, 0, 0, 0, 0, 0, 0, 0,\n",
       "       0, 0, 0, 0, 0, 0, 0, 0, 0, 0, 0, 0, 0, 0, 0, 0, 0, 0, 0, 0, 0, 0,\n",
       "       0, 0, 0, 0, 0, 0, 0, 0, 0, 0, 0])"
      ]
     },
     "metadata": {},
     "output_type": "display_data"
    },
    {
     "name": "stdout",
     "output_type": "stream",
     "text": [
      "(495, 8)\n",
      "(495,)\n"
     ]
    }
   ],
   "source": [
    "import numpy as np\n",
    "from sklearn import datasets\n",
    "from sklearn.dummy import DummyClassifier\n",
    "from sklearn.model_selection import train_test_split\n",
    "from sklearn.model_selection import cross_validate\n",
    "from sklearn.pipeline import Pipeline\n",
    "from sklearn.compose import ColumnTransformer\n",
    "from sklearn.impute import SimpleImputer\n",
    "from sklearn.preprocessing import OneHotEncoder\n",
    "from sklearn.preprocessing import StandardScaler\n",
    "from sklearn.compose import make_column_selector\n",
    "import pandas as pd\n",
    "\n",
    "dataset = np.load('dataset_1.npy')\n",
    "\n",
    "X_dataset = dataset[:,:-1]\n",
    "y_dataset = dataset[:, -1]\n",
    "print(np.shape(X_dataset))\n",
    "print(np.shape(y_dataset))\n",
    "\n",
    "display (np.count_nonzero(np.isnan(X_dataset), axis = 1))\n",
    "# Como vemos, las filas con valores ausentes contienen o 1 valor nan o todos sus atributos a nan\n",
    "#por lo que eliminaremos todas las filas que tengan todos sus valores a nan\n",
    "\n",
    "id_nan = np.argwhere(np.isnan(X_dataset).all(axis=1))\n",
    "X_dataset = np.delete(X_dataset, id_nan, 0)\n",
    "y_dataset = np.delete(y_dataset, id_nan, 0)\n",
    "\n",
    "print(np.shape(X_dataset))\n",
    "print(np.shape(y_dataset))\n",
    "\n",
    "\n",
    "#IMPUTAMOS LOS VALORES AUSENTES \n",
    "\n",
    "X_dataset = pd.DataFrame(X_dataset)\n",
    "\n",
    "continua_cols = X_dataset.select_dtypes(include=['float64']).columns.to_list()\n",
    "discreta_cols = X_dataset.select_dtypes(include=['int']).columns.to_list()\n",
    "\n",
    "# Transformaciones para las variables numéricas\n",
    "continua_transformer = Pipeline(steps=[('imputer', SimpleImputer(strategy='median'))])\n",
    "\n",
    "\n",
    "# Transformaciones para las variables categóricas\n",
    "discreta_transformer = Pipeline(steps=[('imputer', SimpleImputer(strategy='most_frequent'))])\n",
    "preprocessor = ColumnTransformer(\n",
    "    transformers=[\n",
    "        ('num', continua_transformer, continua_cols),\n",
    "        ('cat', discreta_transformer, discreta_cols),\n",
    "    ]\n",
    ")\n",
    "\n",
    "\n",
    "X_dataset_sin_ausentes = preprocessor.fit_transform(X_dataset)\n",
    "\n",
    "#print(X_dataset_sin_ausentes)\n",
    "\n",
    "#print(np.shape(X_dataset_sin_ausentes))\n",
    "#print(np.shape(y_dataset))\n",
    "\n",
    "display (np.count_nonzero(np.isnan(X_dataset_sin_ausentes), axis = 1))\n",
    "\n",
    "#Los valores devueltos son:\n",
    "print(np.shape(X_dataset_sin_ausentes))\n",
    "print(np.shape(y_dataset))"
   ]
  },
  {
   "cell_type": "markdown",
   "metadata": {},
   "source": [
    "#### 1.b) Eliminación de valores outliers extremos (2 puntos)\n",
    "- Aplicar el método de Elliptic Envelope fijando una semilla en 42\n",
    "- Utilizar el diagrama de caja y bigotes para establecer los umbrales de decisión\n",
    "- Plotear el diagrama (box and whiskers) obtenido a partir de las puntuaciones calculadas con el método Elliptic Envelope\n",
    "- Eliminar las instancias que contengan valores outliers extremos\n",
    "\n",
    "Los outputs deberán ser: \n",
    "- Una matriz \"X\" de dimensiones M' x N, donde M' será el nuevo número de instancias y N, el de atributos.\n",
    "- Un vector \"y\" de dimensiones M'. "
   ]
  },
  {
   "cell_type": "code",
   "execution_count": 3,
   "metadata": {},
   "outputs": [
    {
     "name": "stderr",
     "output_type": "stream",
     "text": [
      "/Library/Frameworks/Python.framework/Versions/3.9/lib/python3.9/site-packages/sklearn/covariance/_robust_covariance.py:183: RuntimeWarning: Determinant has increased; this should not happen: log(det) > log(previous_det) (-36.753609686756093 > -38.965920352619932). You may want to try with a higher value of support_fraction (current value: 0.509).\n",
      "  warnings.warn(\n",
      "/Library/Frameworks/Python.framework/Versions/3.9/lib/python3.9/site-packages/sklearn/covariance/_robust_covariance.py:183: RuntimeWarning: Determinant has increased; this should not happen: log(det) > log(previous_det) (-36.909048558471568 > -37.116908932711318). You may want to try with a higher value of support_fraction (current value: 0.509).\n",
      "  warnings.warn(\n",
      "/Library/Frameworks/Python.framework/Versions/3.9/lib/python3.9/site-packages/sklearn/covariance/_robust_covariance.py:183: RuntimeWarning: Determinant has increased; this should not happen: log(det) > log(previous_det) (-37.941874238481759 > -38.688432016707047). You may want to try with a higher value of support_fraction (current value: 0.509).\n",
      "  warnings.warn(\n"
     ]
    },
    {
     "data": {
      "text/plain": [
       "EllipticEnvelope(random_state=42)"
      ]
     },
     "execution_count": 3,
     "metadata": {},
     "output_type": "execute_result"
    }
   ],
   "source": [
    "import pandas as pd\n",
    "from scipy import stats\n",
    "from sklearn.covariance import EllipticEnvelope\n",
    "\n",
    "\n",
    "EllipticEnvelope(random_state=42).fit(X_dataset_sin_ausentes)"
   ]
  },
  {
   "cell_type": "markdown",
   "metadata": {},
   "source": [
    "### Ejercicio 2 (6 puntos)"
   ]
  },
  {
   "cell_type": "markdown",
   "metadata": {},
   "source": [
    "Crear un programa, con comentarios que aclaren el código, donde se computen las métricas MAE, MSE, RMSE, MAPE y R2 aplicando los regresores OLS y KNN en DOS datasets de regresión (a elegir). Nota: Al menos uno de los datasets deberá ser externo a la librería de scikit-learn.\n",
    "\n",
    "Se debe llevar a cabo:\n",
    "- Exploración de los datos y descripción del dataset\n",
    "- Tratamiento de outliers y valores perdidos (si los hay)\n",
    "- Partición externa de datos\n",
    "- Estandarización de los datos\n",
    "- Selección de atributos mediante métodos supervisados (solo uno)\n",
    "- Validación cruzada interna para optimizar los hiperparámetros de los algoritmos (si procede)\n",
    "- Modelado\n",
    "- Predicción y evaluación sobre el conjunto de test (resultados cuantitativos y cualitativos)\n",
    "- Breve discusión comparando los resultados obtenidos con cada método."
   ]
  },
  {
   "cell_type": "markdown",
   "metadata": {},
   "source": [
    "## Programa sobre dataset externo"
   ]
  },
  {
   "cell_type": "code",
   "execution_count": 4,
   "metadata": {},
   "outputs": [],
   "source": [
    "import numpy as np\n",
    "import pandas as pd\n",
    "\n",
    "from sklearn import datasets\n",
    "from sklearn.model_selection import train_test_split \n",
    "import sklearn.metrics as metrics \n",
    "from math import sqrt\n",
    "\n",
    "from sklearn import preprocessing\n",
    "\n",
    "from sklearn.dummy import DummyRegressor, DummyClassifier\n",
    "from sklearn.linear_model import LinearRegression, LogisticRegression\n",
    "from sklearn.neighbors import KNeighborsRegressor\n",
    "from sklearn import tree \n",
    "from sklearn.preprocessing import StandardScaler, OneHotEncoder\n",
    "from sklearn.pipeline import Pipeline\n",
    "from sklearn.compose import ColumnTransformer\n",
    "\n",
    "from sklearn.metrics import make_scorer\n",
    "from sklearn.metrics import mean_squared_error\n",
    "from sklearn.metrics import mean_absolute_error\n",
    "\n",
    "from sklearn.model_selection import cross_val_score, cross_val_predict, KFold, LeaveOneOut\n",
    "\n",
    "import matplotlib.pyplot as plt\n",
    "import seaborn as sns\n",
    "import graphviz\n",
    "import warnings\n",
    "import os\n",
    "warnings.filterwarnings(\"ignore\") "
   ]
  },
  {
   "cell_type": "markdown",
   "metadata": {},
   "source": [
    "EXPLORACION DE LOS DATOS Y DESCRIPCION DEL DATASET\n",
    "\n",
    "El conjunto de datos que vamos a analizar hace referencia al precio de los seguros médicos. En el podemos encontrar el precio dado para unas determinadas carácterísticas sobre el asegurado.\n",
    "\n",
    "Columnas\n",
    "\n",
    "age: edad del beneficiario\n",
    "sex: genero\n",
    "bmi: Índice de masa corporal, medido con el peso y la altura. El ideal está entre 18.5 y 24.\n",
    "children: Numero de hijos o personas dependientes\n",
    "smoker: Si fuma, si o no\n",
    "region: Área de Estados Unidos donde reside\n",
    "charges: Coste del seguro, columna que indica la clase"
   ]
  },
  {
   "cell_type": "code",
   "execution_count": 5,
   "metadata": {},
   "outputs": [
    {
     "name": "stdout",
     "output_type": "stream",
     "text": [
      "   age     sex     bmi  children smoker     region      charges\n",
      "0   19  female  27.900         0    yes  southwest  16884.92400\n",
      "1   18    male  33.770         1     no  southeast   1725.55230\n",
      "2   28    male  33.000         3     no  southeast   4449.46200\n",
      "3   33    male  22.705         0     no  northwest  21984.47061\n",
      "4   32    male  28.880         0     no  northwest   3866.85520\n"
     ]
    },
    {
     "data": {
      "text/html": [
       "<div>\n",
       "<style scoped>\n",
       "    .dataframe tbody tr th:only-of-type {\n",
       "        vertical-align: middle;\n",
       "    }\n",
       "\n",
       "    .dataframe tbody tr th {\n",
       "        vertical-align: top;\n",
       "    }\n",
       "\n",
       "    .dataframe thead th {\n",
       "        text-align: right;\n",
       "    }\n",
       "</style>\n",
       "<table border=\"1\" class=\"dataframe\">\n",
       "  <thead>\n",
       "    <tr style=\"text-align: right;\">\n",
       "      <th></th>\n",
       "      <th>age</th>\n",
       "      <th>bmi</th>\n",
       "      <th>children</th>\n",
       "      <th>charges</th>\n",
       "    </tr>\n",
       "  </thead>\n",
       "  <tbody>\n",
       "    <tr>\n",
       "      <th>count</th>\n",
       "      <td>1338.000000</td>\n",
       "      <td>1338.000000</td>\n",
       "      <td>1338.000000</td>\n",
       "      <td>1338.000000</td>\n",
       "    </tr>\n",
       "    <tr>\n",
       "      <th>mean</th>\n",
       "      <td>39.207025</td>\n",
       "      <td>30.663397</td>\n",
       "      <td>1.094918</td>\n",
       "      <td>13270.422265</td>\n",
       "    </tr>\n",
       "    <tr>\n",
       "      <th>std</th>\n",
       "      <td>14.049960</td>\n",
       "      <td>6.098187</td>\n",
       "      <td>1.205493</td>\n",
       "      <td>12110.011237</td>\n",
       "    </tr>\n",
       "    <tr>\n",
       "      <th>min</th>\n",
       "      <td>18.000000</td>\n",
       "      <td>15.960000</td>\n",
       "      <td>0.000000</td>\n",
       "      <td>1121.873900</td>\n",
       "    </tr>\n",
       "    <tr>\n",
       "      <th>25%</th>\n",
       "      <td>27.000000</td>\n",
       "      <td>26.296250</td>\n",
       "      <td>0.000000</td>\n",
       "      <td>4740.287150</td>\n",
       "    </tr>\n",
       "    <tr>\n",
       "      <th>50%</th>\n",
       "      <td>39.000000</td>\n",
       "      <td>30.400000</td>\n",
       "      <td>1.000000</td>\n",
       "      <td>9382.033000</td>\n",
       "    </tr>\n",
       "    <tr>\n",
       "      <th>75%</th>\n",
       "      <td>51.000000</td>\n",
       "      <td>34.693750</td>\n",
       "      <td>2.000000</td>\n",
       "      <td>16639.912515</td>\n",
       "    </tr>\n",
       "    <tr>\n",
       "      <th>max</th>\n",
       "      <td>64.000000</td>\n",
       "      <td>53.130000</td>\n",
       "      <td>5.000000</td>\n",
       "      <td>63770.428010</td>\n",
       "    </tr>\n",
       "  </tbody>\n",
       "</table>\n",
       "</div>"
      ],
      "text/plain": [
       "               age          bmi     children       charges\n",
       "count  1338.000000  1338.000000  1338.000000   1338.000000\n",
       "mean     39.207025    30.663397     1.094918  13270.422265\n",
       "std      14.049960     6.098187     1.205493  12110.011237\n",
       "min      18.000000    15.960000     0.000000   1121.873900\n",
       "25%      27.000000    26.296250     0.000000   4740.287150\n",
       "50%      39.000000    30.400000     1.000000   9382.033000\n",
       "75%      51.000000    34.693750     2.000000  16639.912515\n",
       "max      64.000000    53.130000     5.000000  63770.428010"
      ]
     },
     "execution_count": 5,
     "metadata": {},
     "output_type": "execute_result"
    }
   ],
   "source": [
    "pathToImport = os.path.join(\"data\",\"medical.csv\")\n",
    "dataset = pd.read_csv(pathToImport,engine='python', encoding='latin-1')\n",
    "\n",
    "\n",
    "print(dataset.head())\n",
    "(dataset.shape)\n",
    "(dataset.describe())"
   ]
  },
  {
   "cell_type": "markdown",
   "metadata": {},
   "source": [
    "TRATAMIENTO DE OUTLIERS Y VALORES PERDIDOS"
   ]
  },
  {
   "cell_type": "code",
   "execution_count": 6,
   "metadata": {},
   "outputs": [
    {
     "name": "stdout",
     "output_type": "stream",
     "text": [
      "<class 'pandas.core.frame.DataFrame'>\n",
      "RangeIndex: 1338 entries, 0 to 1337\n",
      "Data columns (total 7 columns):\n",
      " #   Column    Non-Null Count  Dtype  \n",
      "---  ------    --------------  -----  \n",
      " 0   age       1338 non-null   int64  \n",
      " 1   sex       1338 non-null   object \n",
      " 2   bmi       1338 non-null   float64\n",
      " 3   children  1338 non-null   int64  \n",
      " 4   smoker    1338 non-null   object \n",
      " 5   region    1338 non-null   object \n",
      " 6   charges   1338 non-null   float64\n",
      "dtypes: float64(2), int64(2), object(3)\n",
      "memory usage: 73.3+ KB\n"
     ]
    },
    {
     "data": {
      "text/plain": [
       "(1338, 7)"
      ]
     },
     "execution_count": 6,
     "metadata": {},
     "output_type": "execute_result"
    }
   ],
   "source": [
    "dataset.info()\n",
    "dataset.isna().sum()\n",
    "dataset.shape\n",
    "# No hay valores perdidos que tratar"
   ]
  },
  {
   "cell_type": "markdown",
   "metadata": {},
   "source": [
    "PARTICION EXTERNA DE DATOS"
   ]
  },
  {
   "cell_type": "code",
   "execution_count": 9,
   "metadata": {},
   "outputs": [
    {
     "name": "stdout",
     "output_type": "stream",
     "text": [
      "<class 'numpy.ndarray'>\n",
      "<class 'numpy.ndarray'>\n",
      "(1070, 6)\n",
      "(1070,)\n",
      "(268, 6)\n",
      "(268,)\n"
     ]
    }
   ],
   "source": [
    "#Partimos los datos en el conjunto de entrenamiento (80%) y el de test (20%)\n",
    "dsTrain, dsTest = train_test_split(dataset, test_size=0.2, shuffle=True, random_state=42)\n",
    "\n",
    "dsTrain = dsTrain.to_numpy()\n",
    "dsTest = dsTest.to_numpy()\n",
    "print(type(dsTrain))\n",
    "\n",
    "X_train = dsTrain[:,:-1]\n",
    "print(type(X_train))\n",
    "y_train = dsTrain[:, -1]\n",
    "\n",
    "X_test = dsTest[:,:-1]\n",
    "y_test = dsTest[:, -1]\n",
    "\n",
    "print(np.shape(X_train))\n",
    "print(np.shape(y_train))\n",
    "print(np.shape(X_test))\n",
    "print(np.shape(y_test))"
   ]
  },
  {
   "cell_type": "markdown",
   "metadata": {},
   "source": [
    "ESTANDARIZACION DE LOS DATOS"
   ]
  },
  {
   "cell_type": "code",
   "execution_count": 11,
   "metadata": {},
   "outputs": [],
   "source": [
    "#print(type(X_train))\n",
    "X_train_ = X_train\n",
    "X_test_ = X_test\n",
    "\n",
    "X_train_pd = pd.DataFrame(X_train)\n",
    "X_test_pd = pd.DataFrame(X_test)\n",
    "\n",
    "\n",
    "\n",
    "# Dividimos las columnas en tipos\n",
    "columnas_numericas = X_train_pd.select_dtypes(include=['float64', 'int64']).columns\n",
    "columnas_categoricas = X_train_pd.select_dtypes(include=['category', 'object']).columns\n",
    "\n",
    "# Creamos las transformaciones dependiendo del tipo\n",
    "transformacion_numericas = Pipeline(steps=[\n",
    "    ('scaler', StandardScaler())])\n",
    "\n",
    "transformacion_categoricas = Pipeline(steps=[\n",
    "    ('onehot', OneHotEncoder(handle_unknown='ignore'))])\n",
    "\n",
    "# Creamos el transformador\n",
    "preprocessor = ColumnTransformer(\n",
    "    transformers=[\n",
    "        ('num', transformacion_numericas, columnas_numericas),\n",
    "        ('cat', transformacion_categoricas, columnas_categoricas)])\n",
    "\n",
    "\n",
    "## Transformamos\n",
    "preprocessor.fit(X_train_)\n",
    "X_train_ = preprocessor.transform(X_train_)\n",
    "X_test_ = preprocessor.transform(X_test_)\n",
    "\n"
   ]
  },
  {
   "cell_type": "markdown",
   "metadata": {},
   "source": [
    "SELECCION DE LOS ATRIBUTOS"
   ]
  },
  {
   "cell_type": "code",
   "execution_count": 12,
   "metadata": {},
   "outputs": [
    {
     "data": {
      "image/png": "[encoded data removed]",
      "text/plain": [
       "<Figure size 720x720 with 2 Axes>"
      ]
     },
     "metadata": {
      "needs_background": "light"
     },
     "output_type": "display_data"
    }
   ],
   "source": [
    "\n",
    "f, ax = plt.subplots(1, 1, figsize=(10, 10))\n",
    "ax = sns.heatmap(dataset.corr(), annot=True, cmap='cool')\n",
    "plt.show()\n"
   ]
  },
  {
   "cell_type": "markdown",
   "metadata": {},
   "source": [
    "No existe correlación suficiente para eliminar algún atributo"
   ]
  },
  {
   "cell_type": "markdown",
   "metadata": {},
   "source": [
    "VALIDACION CRUZADA"
   ]
  },
  {
   "cell_type": "code",
   "execution_count": 13,
   "metadata": {},
   "outputs": [],
   "source": [
    "algos = {\n",
    "    \"ols\": LinearRegression(normalize = True, n_jobs = 1000),\n",
    "    \"knn\": KNeighborsRegressor(n_neighbors=10)\n",
    "}\n",
    "\n",
    "metricas = {\n",
    "  'MAE': 'neg_mean_absolute_error',\n",
    "  'RMSE': make_scorer(\n",
    "          lambda y, y_pred:\n",
    "            sqrt(mean_squared_error(y, y_pred)),\n",
    "            greater_is_better=False),\n",
    "  'MAPE': make_scorer(\n",
    "          lambda y, y_pred:\n",
    "            np.mean(np.abs((y - y_pred) / y)) * 100,\n",
    "            greater_is_better=False)}"
   ]
  },
  {
   "cell_type": "code",
   "execution_count": 14,
   "metadata": {},
   "outputs": [
    {
     "name": "stdout",
     "output_type": "stream",
     "text": [
      "ALGORITMO ols\n",
      "{'fit_time': array([0.01721597, 0.01092601, 0.01004505, 0.01661396, 0.01558685]), 'score_time': array([0.00216985, 0.00066495, 0.00062418, 0.00102019, 0.00165296]), 'test_MAE': array([-5397.2833966 , -5956.32026679, -5593.017561  , -5626.6784224 ,\n",
      "       -5415.33153595]), 'test_RMSE': array([-7387.33546611, -8145.5982286 , -7385.16657284, -7774.95416633,\n",
      "       -7114.97134081]), 'test_MAPE': array([-65.0608797 , -74.4716283 , -94.78835026, -68.33974207,\n",
      "       -61.84352978])}\n",
      "ALGORITMO knn\n",
      "{'fit_time': array([0.00086093, 0.00137496, 0.00079823, 0.00173402, 0.00101614]), 'score_time': array([0.01467538, 0.0104084 , 0.00619173, 0.00692415, 0.00642705]), 'test_MAE': array([-5607.61182864, -5636.46565012, -4989.52545986, -5487.37252313,\n",
      "       -5368.15791985]), 'test_RMSE': array([-7919.84837965, -7997.02665597, -6655.43466877, -7885.25296553,\n",
      "       -7512.81261735]), 'test_MAPE': array([-63.40795673, -65.52052371, -80.46526685, -63.91764847,\n",
      "       -60.57834784])}\n"
     ]
    }
   ],
   "source": [
    "\n",
    "#Ejecutamos el cross validate para los dos algoritmos\n",
    "for a in algos:\n",
    "            \n",
    "    evaluacion = cross_validate(algos[a], \n",
    "                               X_train_, y_train,\n",
    "                               cv = KFold(n_splits=5, shuffle=True, random_state=42),\n",
    "                               scoring = metricas)  \n",
    "\n",
    "\n",
    "\n",
    "    print(\"ALGORITMO \" + a)\n",
    "    print(evaluacion)\n",
    "            "
   ]
  },
  {
   "cell_type": "markdown",
   "metadata": {},
   "source": [
    "MODELADO"
   ]
  },
  {
   "cell_type": "code",
   "execution_count": 15,
   "metadata": {},
   "outputs": [
    {
     "data": {
      "text/plain": [
       "LinearRegression(n_jobs=1000, normalize=True)"
      ]
     },
     "execution_count": 15,
     "metadata": {},
     "output_type": "execute_result"
    }
   ],
   "source": [
    "#Hacemos el modelado definitivo\n",
    "\n",
    "knn = KNeighborsRegressor(n_neighbors=10)\n",
    "knn.fit(X_train_, y_train)\n",
    "\n",
    "ols = LinearRegression(normalize = True, n_jobs = 1000)\n",
    "ols.fit(X_train_, y_train)"
   ]
  },
  {
   "cell_type": "markdown",
   "metadata": {},
   "source": [
    "PREDICCION"
   ]
  },
  {
   "cell_type": "code",
   "execution_count": 16,
   "metadata": {},
   "outputs": [
    {
     "name": "stdout",
     "output_type": "stream",
     "text": [
      "[10298.977252 10967.413991999998 25735.578054 11094.849105 11891.2562\n",
      " 7006.705236999999 7085.613862 7964.445519999999 9722.961758\n",
      " 11976.914640000003 27140.923193999995 11574.097906 4745.45698\n",
      " 30842.983799 38893.866508 36843.42375 8545.03309 22353.9854 7753.732356\n",
      " 29419.957896999997 6719.98744 5961.4574 2576.7286 8112.131187999999\n",
      " 11285.031334000001 6426.9640850000005 8630.498892000001 9248.000945999998\n",
      " 13485.506375 1322.8922900000002 6650.6402 8246.787637 8963.551259\n",
      " 11369.735661 7966.919736999999 8223.19067 11157.039886999999\n",
      " 8242.478317000001 24652.373315000004 34575.18337499999 3207.5257\n",
      " 8438.779792 8802.839097 11934.142254 9518.400801 7706.2472370000005\n",
      " 13422.150315999996 7534.822099999999 31905.865444999996 6917.59688\n",
      " 7280.4236439999995 3514.67882 7377.4064849999995 3963.5000200000004\n",
      " 4944.697139999999 11628.923692 4713.927085 33412.961941 7713.614885000001\n",
      " 9960.059057999999 8816.799920000001 7255.552379999999 8048.899\n",
      " 9523.374158999999 10649.318057999999 6956.55871 30724.866139\n",
      " 11398.371910000002 7345.087750000001 8852.139169999999 6365.5696100000005\n",
      " 13566.105247 9276.112803000002 10467.038736 10000.58047 9218.916234\n",
      " 6647.206389999999 11204.084452 6251.43571 10121.906105 5783.367996999999\n",
      " 30973.618647999996 6655.4398 25316.636708999995 36561.909887 33583.642127\n",
      " 9826.68176 9537.566969 11405.996537 7798.035399999999 10796.940417999998\n",
      " 36046.813819999996 31190.103262999997 7014.870024999999 39443.711297\n",
      " 6337.799349999999 32472.132107 11993.819597999998 27535.280605\n",
      " 9331.750418 9636.355489999998 5488.5099 5988.143703 8352.2219\n",
      " 11670.884390000001 3103.3225600000005 9861.289221000003\n",
      " 30891.059066000005 5957.521814999999 25821.855526 2504.902365\n",
      " 10952.256974 13830.400059000001 29727.383425 11859.043034999999 7123.7665\n",
      " 8904.535135 29331.658755 6191.669 10118.182488 7124.476664999999\n",
      " 11700.588031000001 9605.220411999999 4437.1904349999995 8286.127505\n",
      " 8746.196435 6864.06719 9096.816322 8938.489009 6156.236855\n",
      " 8681.046009000002 9369.69592 6898.70822 8347.116568000001 8359.2196\n",
      " 7419.319636999999 8170.020624999999 35335.099699 26578.226302000003\n",
      " 19473.787745 10178.008657 7182.923332 7066.358847 11544.549852 4995.24297\n",
      " 35634.85673 9035.723463999999 4472.744844999999 10090.666206000002\n",
      " 7390.410907 26294.480349999998 11560.828636000002 1246.70696 25504.540085\n",
      " 10181.300769999998 6640.892835000001 8427.406565000001 8040.621626999999\n",
      " 33657.755160999994 25773.111605 12816.196224000001 8540.416245\n",
      " 6964.237384 4661.674635 6980.9079 8543.55036 28787.059123000003\n",
      " 27852.589467 25793.266235000003 9617.995885 10127.953120000002\n",
      " 8868.043656999998 7419.46695 9066.663197 6988.283865 35223.741\n",
      " 22479.326538999998 7539.8205 29882.0854 11872.587877000002\n",
      " 17741.825234999997 9125.785798 7763.853724999999 8116.765966999999\n",
      " 6646.6933450000015 6084.221 6702.875389000001 7831.785217\n",
      " 8040.621626999999 8289.406441 6009.652999999999 4120.923789999999\n",
      " 9651.544532999998 34867.7767 8961.330742 11195.561796 8540.416245\n",
      " 13038.935243999998 4120.923789999999 9096.098150000002 3597.9493800000005\n",
      " 30851.959121999993 9245.501626 10031.824783 23701.152609999997\n",
      " 36022.957847000005 10446.367612999999 9976.946741 8804.729889999999\n",
      " 8905.452827 9008.276280000002 7399.643330000001 13044.483642000001\n",
      " 36923.121159 6979.7808 8337.783008000002 7979.570693 14426.77561\n",
      " 10655.986294 6532.89208 11920.916264000001 8654.193905000002 10432.591328\n",
      " 36083.879707 6375.497145999999 34904.05936900001 5684.6303\n",
      " 2964.1371750000003 7575.508407000001 10887.735876 7149.156698999999\n",
      " 10021.463652 11563.768768 33909.030939 10545.205462000002 5812.3588\n",
      " 9302.587014 8884.18858 25598.234770000003 4627.25956 10131.178472999998\n",
      " 36573.45359999999 8735.067461999999 7288.951291 3279.00109 5896.456521\n",
      " 9194.348 7018.969365 10769.724369 5038.750915 6478.969027000001 7399.2485\n",
      " 7102.6322230000005 10743.109682999999 8540.416245 6991.67883\n",
      " 9811.188644999998 7054.188452 6565.67877 9539.778545 11354.589811000002\n",
      " 8093.508985 32789.836899 39844.521419000004 11566.337177000001\n",
      " 9482.985518000001 33105.756548 10150.457296999999]\n",
      "Error MAE en test KNN:  5269.316024817164\n",
      "Error MAE en test OLS:  5309.346001224555\n"
     ]
    }
   ],
   "source": [
    "y_pred_knn = knn.predict(X_test_) \n",
    "y_pred_ols = ols.predict(X_test_)\n",
    "\n",
    "print(y_pred_knn)\n",
    "\n",
    "print('Error MAE en test KNN: ', mean_absolute_error(y_pred_knn, y_test))\n",
    "print('Error MAE en test OLS: ', mean_absolute_error(y_pred_ols, y_test))\n"
   ]
  },
  {
   "cell_type": "markdown",
   "metadata": {},
   "source": [
    "PROCESO SOBRE EL CONJUNTO DE DATOS DENTRO DE SKLEARN"
   ]
  }
 ],
 "metadata": {
  "kernelspec": {
   "display_name": "Python 3",
   "language": "python",
   "name": "python3"
  },
  "language_info": {
   "codemirror_mode": {
    "name": "ipython",
    "version": 3
   },
   "file_extension": ".py",
   "mimetype": "text/x-python",
   "name": "python",
   "nbconvert_exporter": "python",
   "pygments_lexer": "ipython3",
   "version": "3.11.7"
  }
 },
 "nbformat": 4,
 "nbformat_minor": 4
}
